{
 "cells": [
  {
   "cell_type": "code",
   "execution_count": 12,
   "metadata": {},
   "outputs": [],
   "source": [
    "# Importing necessary libraries\n",
    "import pandas as pd\n",
    "import numpy as np\n",
    "from sklearn.cluster import KMeans, MiniBatchKMeans\n",
    "from sklearn.metrics import silhouette_score, davies_bouldin_score\n",
    "\n",
    "def optimize_kmeans(df, k_range=(2, 10), batch_size=100):\n",
    "    \"\"\"\n",
    "    Apply and optimize K-means clustering on a given DataFrame.\n",
    "    \n",
    "    Parameters:\n",
    "    - df: DataFrame, data for clustering\n",
    "    - k_range: tuple, range of k values to try (inclusive)\n",
    "    \n",
    "    Returns:\n",
    "    - dict, containing optimal k and metrics\n",
    "    \"\"\"\n",
    "    # Initialize variables to store metrics\n",
    "    k_values = []\n",
    "    inertias = []\n",
    "    silhouette_scores = []\n",
    "    davies_bouldin_scores = []\n",
    "    \n",
    "    # Loop through different values of k to find the optimal one\n",
    "    for k in range(k_range[0], k_range[1]):\n",
    "        # Fit K-means model\n",
    "        kmeans = MiniBatchKMeans(n_clusters=k, batch_size=batch_size, random_state=42, n_init = \"auto\").fit(df)\n",
    "        \n",
    "        # Get cluster labels\n",
    "        labels = kmeans.labels_\n",
    "        \n",
    "        # Calculate metrics\n",
    "        inertia = kmeans.inertia_\n",
    "        silhouette = silhouette_score(df, labels)\n",
    "        davies_bouldin = davies_bouldin_score(df, labels)\n",
    "        \n",
    "        # Store metrics\n",
    "        k_values.append(k)\n",
    "        inertias.append(inertia)\n",
    "        silhouette_scores.append(silhouette)\n",
    "        davies_bouldin_scores.append(davies_bouldin)\n",
    "        \n",
    "    # Finding the optimal k based on metrics\n",
    "    # Lower inertia and Davies-Bouldin score is better. Higher silhouette score is better.\n",
    "    optimal_k = k_values[np.argmin(davies_bouldin_scores)]  # Change this based on the metric you prioritize\n",
    "    \n",
    "    # Compile metrics\n",
    "    metrics = {\n",
    "        'k_values': k_values,\n",
    "        'inertias': inertias,\n",
    "        'silhouette_scores': silhouette_scores,\n",
    "        'davies_bouldin_scores': davies_bouldin_scores,\n",
    "        'optimal_k': optimal_k\n",
    "    }\n",
    "    \n",
    "    return metrics"
   ]
  },
  {
   "cell_type": "code",
   "execution_count": 6,
   "metadata": {},
   "outputs": [],
   "source": [
    "df = pd.read_csv(\"./tmp_df.csv\")\n",
    "\n"
   ]
  },
  {
   "cell_type": "code",
   "execution_count": 13,
   "metadata": {},
   "outputs": [
    {
     "data": {
      "text/plain": [
       "{'k_values': [2, 3, 4, 5, 6, 7, 8, 9],\n",
       " 'inertias': [5580215459.068349,\n",
       "  2980555290.299206,\n",
       "  2605368384.563317,\n",
       "  2054319909.7121527,\n",
       "  1762711123.3814275,\n",
       "  1427178201.834301,\n",
       "  1290949649.7131643,\n",
       "  1131036086.2219656],\n",
       " 'silhouette_scores': [0.37792773160802917,\n",
       "  0.44088668752026383,\n",
       "  0.35303762649102644,\n",
       "  0.3895008816122427,\n",
       "  0.33834170844895506,\n",
       "  0.35558141195832255,\n",
       "  0.3538421648401396,\n",
       "  0.35724555573861294],\n",
       " 'davies_bouldin_scores': [1.0854369679599212,\n",
       "  0.7749927477959222,\n",
       "  0.9639580257352263,\n",
       "  0.79836038460895,\n",
       "  0.8917744525765444,\n",
       "  0.862895673919633,\n",
       "  0.8257441803726653,\n",
       "  0.8515972610711848],\n",
       " 'optimal_k': 3}"
      ]
     },
     "execution_count": 13,
     "metadata": {},
     "output_type": "execute_result"
    }
   ],
   "source": [
    "optimize_kmeans(df.values)"
   ]
  }
 ],
 "metadata": {
  "kernelspec": {
   "display_name": "base",
   "language": "python",
   "name": "python3"
  },
  "language_info": {
   "codemirror_mode": {
    "name": "ipython",
    "version": 3
   },
   "file_extension": ".py",
   "mimetype": "text/x-python",
   "name": "python",
   "nbconvert_exporter": "python",
   "pygments_lexer": "ipython3",
   "version": "3.10.8"
  }
 },
 "nbformat": 4,
 "nbformat_minor": 2
}
